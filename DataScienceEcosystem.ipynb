{
 "cells": [
  {
   "cell_type": "markdown",
   "id": "fca207c0-b1a2-4b3f-a26d-3cd3c9149953",
   "metadata": {},
   "source": [
    "# Data Science Tools and Ecosystem"
   ]
  },
  {
   "cell_type": "markdown",
   "id": "a791e13e-a075-43ad-aca6-f7a62e367a90",
   "metadata": {},
   "source": [
    "In this notebook, Data Science Tools and Ecosystem are summarized."
   ]
  },
  {
   "cell_type": "markdown",
   "id": "cf5cd5d2-a3f5-40e9-b7e2-fc16ba90753f",
   "metadata": {},
   "source": [
    " **Objectives:**\n",
    "- List popular languages for Data Science\n",
    "- List popular Tools for Data Science\n",
    "- List popular libraries for Data Science\n"
   ]
  },
  {
   "cell_type": "markdown",
   "id": "3794cfc4-dc07-48dd-8891-998b405f43ac",
   "metadata": {},
   "source": [
    "## Author: \n",
    "Raphael Sonntag"
   ]
  },
  {
   "cell_type": "markdown",
   "id": "1d7ff6b8-3d32-4c86-ba3e-b5744026dfdd",
   "metadata": {},
   "source": [
    "Some of the popular languages that Data Scientists use are:\n",
    "1. python\n",
    "2. R\n",
    "3. Julia"
   ]
  },
  {
   "cell_type": "markdown",
   "id": "703d0f3e-5e71-4d86-a352-72308bbfc4c5",
   "metadata": {},
   "source": [
    "Some of the commonly used libraries used by Data Scientists include:\n",
    "1. Panda\n",
    "2. Seaborn\n",
    "3. Matplotlib"
   ]
  },
  {
   "cell_type": "markdown",
   "id": "3f255072-e5aa-4911-948a-7946ec13c17a",
   "metadata": {},
   "source": [
    "| Data Science Tools | \n",
    "| ------ | \n",
    "| GoogleColab |\n",
    "| JupyterNotebook | "
   ]
  },
  {
   "cell_type": "markdown",
   "id": "dfe2ee88-289d-4736-b695-394e67dd2182",
   "metadata": {},
   "source": [
    "### Below are a few examples of evaluating arithmetic expressions in Python\n"
   ]
  },
  {
   "cell_type": "markdown",
   "id": "5b977add-e2e5-4f5e-b664-add69c563f01",
   "metadata": {
    "tags": []
   },
   "source": [
    "This a simple arithmetic expression to mutiply then add integers"
   ]
  },
  {
   "cell_type": "code",
   "execution_count": 6,
   "id": "fab41bd5-3ec5-442c-afd9-b52ee93d1eac",
   "metadata": {
    "tags": []
   },
   "outputs": [
    {
     "data": {
      "text/plain": [
       "17"
      ]
     },
     "execution_count": 6,
     "metadata": {},
     "output_type": "execute_result"
    }
   ],
   "source": [
    "(3*4)+5"
   ]
  },
  {
   "cell_type": "markdown",
   "id": "5b976b89-c887-493c-8ecf-00326d82ab06",
   "metadata": {},
   "source": [
    "This will convert 200 minutes to hours by diving by 60\n"
   ]
  },
  {
   "cell_type": "code",
   "execution_count": 7,
   "id": "911acb98-b1b3-41f9-9915-911645b410c2",
   "metadata": {
    "tags": []
   },
   "outputs": [
    {
     "data": {
      "text/plain": [
       "3.3333333333333335"
      ]
     },
     "execution_count": 7,
     "metadata": {},
     "output_type": "execute_result"
    }
   ],
   "source": [
    "200/60"
   ]
  },
  {
   "cell_type": "code",
   "execution_count": null,
   "id": "d8b1a217-8cd0-4c61-812f-7de9bb07bd4d",
   "metadata": {},
   "outputs": [],
   "source": []
  }
 ],
 "metadata": {
  "kernelspec": {
   "display_name": "Python",
   "language": "python",
   "name": "conda-env-python-py"
  },
  "language_info": {
   "codemirror_mode": {
    "name": "ipython",
    "version": 3
   },
   "file_extension": ".py",
   "mimetype": "text/x-python",
   "name": "python",
   "nbconvert_exporter": "python",
   "pygments_lexer": "ipython3",
   "version": "3.7.12"
  }
 },
 "nbformat": 4,
 "nbformat_minor": 5
}
